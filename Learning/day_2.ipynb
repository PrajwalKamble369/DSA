{
 "cells": [
  {
   "cell_type": "markdown",
   "id": "73b642bd",
   "metadata": {},
   "source": [
    "## This is Day two of DSA"
   ]
  },
  {
   "cell_type": "code",
   "execution_count": null,
   "id": "e7114d31",
   "metadata": {},
   "outputs": [],
   "source": []
  }
 ],
 "metadata": {
  "kernelspec": {
   "display_name": "dsa (3.13.2)",
   "language": "python",
   "name": "python3"
  },
  "language_info": {
   "codemirror_mode": {
    "name": "ipython",
    "version": 3
   },
   "file_extension": ".py",
   "mimetype": "text/x-python",
   "name": "python",
   "nbconvert_exporter": "python",
   "pygments_lexer": "ipython3",
   "version": "3.13.2"
  }
 },
 "nbformat": 4,
 "nbformat_minor": 5
}
