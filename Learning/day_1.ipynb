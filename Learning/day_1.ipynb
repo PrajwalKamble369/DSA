{
 "cells": [
  {
   "cell_type": "markdown",
   "id": "9d4583eb",
   "metadata": {},
   "source": [
    "# **Basic Python for DSA**\n",
    "\n",
    "----"
   ]
  },
  {
   "cell_type": "markdown",
   "id": "90811aef",
   "metadata": {},
   "source": [
    "## **Agenda**\n",
    "\n",
    "1) Control Statements\n",
    "2) Loops\n",
    "3) Functions\n",
    "4) Problems on Control Statements and Loops\n",
    "5) Problems on Functions\n",
    "6) Assignments\n",
    "\n",
    "----"
   ]
  },
  {
   "cell_type": "markdown",
   "id": "0758e813",
   "metadata": {},
   "source": [
    "What is Programming Language?\n",
    "\n",
    "A programming language is a fromal language that provides instruction for a computer to execute. It's way to communicate with computers to create software,application and other technology.\n",
    "\n",
    "---"
   ]
  },
  {
   "cell_type": "markdown",
   "id": "f0c9dccb",
   "metadata": {},
   "source": [
    "There are high level and low level programming language.\n",
    "\n",
    "We all know machine can understan binary(0 1) programming language this is known as binary or assembly or low level programming language. By this we can say that, low level is programming language which computer understand directly.\n",
    "\n",
    "High Level Programming Languges are Python, Java, C++ that humans writes. This high level language is converted to low level language throgh compiler or interpreter so machine(computer) can understand easily and execute the task or instructions.\n",
    "\n",
    "Complier converts eniter code to low level language at a single time or instance.\n",
    "\n",
    "Interpreter converts code to low level language line by line.\n",
    "\n",
    "|     Compiler                  |        Interpreter                  |\n",
    "|-------------------------------|-------------------------------------|\n",
    "| Convert whole code at once    |  Covert code line by line           |\n",
    "| Return error at once          |  Stops when get error               |\n",
    "| C++                           |  Python                             |\n",
    "| It is slow  to analyze        |  It is fast to analyze              |\n",
    "| It is fast to run             |  It is slow to run                  |\n",
    "\n",
    "---"
   ]
  },
  {
   "cell_type": "markdown",
   "id": "60b2d6ba",
   "metadata": {},
   "source": [
    "**Introduction to Python:**\n",
    "\n",
    "Python is high-level, genral purpose, inerpreted programming language designed for redability and ease of use.\n",
    "\n",
    "**Properties of Python:**\n",
    "1) High-Level\n",
    "2) Interpreted\n",
    "3) Object-oriented\n",
    "4) Extensive libraries\n",
    "\n",
    "---"
   ]
  },
  {
   "cell_type": "markdown",
   "id": "684ddce0",
   "metadata": {},
   "source": [
    "Variables/Keywords/Identifiers/Comments\n",
    "\n",
    "1) What are variables?\n",
    "    - It is containers or place holders to store data.\n",
    "2) What is Keyword?\n",
    "    - They are predefine words in python like print, import, def.\n",
    "3) What are identifiers?\n",
    "    - Names that we provides to variable, functions, classes.\n",
    "    - It can contains alphabates a-z, numbers 0-9 or _ .\n",
    "    - It can starts with a-z or _ and dont allow space.\n",
    "    - Case sensitive.\n",
    "    - Can't use keywords.\n",
    "    - They can be descriptive(have some meaning).\n",
    "4) What is comments?\n",
    "    - Unexecutable statements. \n",
    "    - Single line comment using #\n",
    "    - Multi Line comment using \"\"\"\"\"\"\n",
    "\n",
    "\n",
    "Operators:\n",
    "1) Arithmetic Operators:(Used for mathematical Calculations)\n",
    "    - +(Addition)\n",
    "    - -(Substraction)\n",
    "    - *(Multiplication)\n",
    "    - /(Division)\n",
    "    - //(Floor Division)\n",
    "    - %(Modulus)\n",
    "    - **(Exponentiations)\n",
    "2) Assignment Operators:(Used to assign values to variables)\n",
    "    - =(Assign)\n",
    "    - +=(Add and assign)\n",
    "    - -=(Subtract and assign)\n",
    "    - *=(Multiply and assign)\n",
    "    - /=(Divide and assign)\n",
    "    - //=(Floor Divide and assign)\n",
    "    - **=(Exponent and assign)\n",
    "3) Comparision Operator:(Used to compare values)\n",
    "    - ==(Equal to)\n",
    "    - !=(Not Equal to)\n",
    "    - \">\"(Greater than)\n",
    "    - <(Less than)\n",
    "    - \">=\"(Greater than or equal to)\n",
    "    - <=(Less than or equal to)\n",
    "4) Logical Operators:(Used to combine conditional statements)\n",
    "    - and(Logical AND)\n",
    "    - or(Logical OR)\n",
    "    - not(Logical NOT)\n",
    "5) Identity Operators:(Used to compare the memory locations of objects.)\n",
    "    - is(Returns True if both variables are the same objects)\n",
    "    - is not(Return True if both vatiables are not the same objects)\n",
    "6) Membership Operators:(Used to check if a values is part of sequence)\n",
    "    - in(Returns True if value is found in sequence)\n",
    "    - not in(Returns True if value is not found in sequence)\n",
    "7) Bitwise Operators:(Used to manipulate individual bits of data)\n",
    "    - &(Bitwise AND)\n",
    "    - |(Bitwise OR)\n",
    "    - ^(Bitwise XOR)\n",
    "    - ~(Bitwise NOT)\n",
    "    - <<(Left shift)\n",
    "    - \">>\"(Right shift)\n",
    "-----"
   ]
  },
  {
   "cell_type": "markdown",
   "id": "3563a1ed",
   "metadata": {},
   "source": [
    "**Data Types**\n",
    "1) Numerical - int, float, complex\n",
    "2) String(str)\n",
    "3) Boolean(bool)\n",
    "4) None\n",
    "5) Data Structures - list, tuple, set, dictionaries, sets\n",
    "\n",
    "---"
   ]
  },
  {
   "cell_type": "markdown",
   "id": "ef36e658",
   "metadata": {},
   "source": [
    "**Input & Output:**\n",
    "1) input() this function is used to take input from user\n",
    "2) print() this function is used to give output to user\n",
    "\n",
    "46:25\n",
    "\n",
    "---"
   ]
  }
 ],
 "metadata": {
  "kernelspec": {
   "display_name": "dsa (3.13.2)",
   "language": "python",
   "name": "python3"
  },
  "language_info": {
   "codemirror_mode": {
    "name": "ipython",
    "version": 3
   },
   "file_extension": ".py",
   "mimetype": "text/x-python",
   "name": "python",
   "nbconvert_exporter": "python",
   "pygments_lexer": "ipython3",
   "version": "3.13.2"
  }
 },
 "nbformat": 4,
 "nbformat_minor": 5
}
