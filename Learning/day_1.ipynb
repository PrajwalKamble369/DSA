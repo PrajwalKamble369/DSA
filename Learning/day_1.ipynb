{
 "cells": [
  {
   "cell_type": "markdown",
   "id": "9d4583eb",
   "metadata": {},
   "source": [
    "# **Basic Python for DSA**\n",
    "\n",
    "----"
   ]
  },
  {
   "cell_type": "markdown",
   "id": "90811aef",
   "metadata": {},
   "source": [
    "## **Agenda**\n",
    "\n",
    "1) Control Statements\n",
    "2) Loops\n",
    "3) Functions\n",
    "4) Problems on Control Statements and Loops\n",
    "5) Problems on Functions\n",
    "6) Assignments\n",
    "\n",
    "----"
   ]
  },
  {
   "cell_type": "markdown",
   "id": "0758e813",
   "metadata": {},
   "source": [
    "What is Programming Language?\n",
    "\n",
    "A programming language is a fromal language that provides instruction for a computer to execute. It's way to communicate with computers to create software,application and other technology.\n",
    "\n",
    "---"
   ]
  },
  {
   "cell_type": "markdown",
   "id": "f0c9dccb",
   "metadata": {},
   "source": [
    "There are high level and low level programming language.\n",
    "\n",
    "We all know machine can understan binary(0 1) programming language this is known as binary or assembly or low level programming language. By this we can say that, low level is programming language which computer understand directly.\n",
    "\n",
    "High Level Programming Languges are Python, Java, C++ that humans writes. This high level language is converted to low level language throgh compiler or interpreter so machine(computer) can understand easily and execute the task or instructions.\n",
    "\n",
    "Complier converts eniter code to low level language at a single time or instance.\n",
    "\n",
    "Interpreter converts code to low level language line by line.\n",
    "\n",
    "|     Compiler                  |        Interpreter                  |\n",
    "|-------------------------------|-------------------------------------|\n",
    "| Convert whole code at once    |  Covert code line by line           |\n",
    "| Return error at once          |  Stops when get error               |\n",
    "| C++                           |  Python                             |\n",
    "| It is slow  to analyze        |  It is fast to analyze              |\n",
    "| It is fast to run             |  It is slow to run                  |\n",
    "\n",
    "---"
   ]
  },
  {
   "cell_type": "markdown",
   "id": "60b2d6ba",
   "metadata": {},
   "source": [
    "**Introduction to Python:**\n",
    "\n",
    "Python is high-level, genral purpose, inerpreted programming language designed for redability and ease of use.\n",
    "\n",
    "**Properties of Python:**\n",
    "1) High-Level\n",
    "2) Interpreted\n",
    "3) Object-oriented\n",
    "4) Extensive libraries\n",
    "\n",
    "---"
   ]
  },
  {
   "cell_type": "markdown",
   "id": "684ddce0",
   "metadata": {},
   "source": [
    "Variables/Keywords/Identifiers/Comments\n",
    "\n",
    "1) What are variables?\n",
    "    - It is containers or place holders to store data.\n",
    "2) What is Keyword?\n",
    "    - They are predefine words in python like print, import, def.\n",
    "3) What are identifiers?\n",
    "    - Names that we provides to variable, functions, classes.\n",
    "    - It can contains alphabates a-z, numbers 0-9 or _ .\n",
    "    - It can starts with a-z or _ and dont allow space.\n",
    "    - Case sensitive.\n",
    "    - Can't use keywords.\n",
    "    - They can be descriptive(have some meaning).\n",
    "4) What is comments?\n",
    "    - Unexecutable statements. \n",
    "    - Single line comment using #\n",
    "    - Multi Line comment using \"\"\"\"\"\"\n",
    "\n",
    "\n",
    "Operators:\n",
    "1) Arithmetic Operators:(Used for mathematical Calculations)\n",
    "    - +(Addition)\n",
    "    - -(Substraction)\n",
    "    - *(Multiplication)\n",
    "    - /(Division)\n",
    "    - //(Floor Division)\n",
    "    - %(Modulus)\n",
    "    - **(Exponentiations)\n",
    "2) Assignment Operators:(Used to assign values to variables)\n",
    "    - =(Assign)\n",
    "    - +=(Add and assign)\n",
    "    - -=(Subtract and assign)\n",
    "    - *=(Multiply and assign)\n",
    "    - /=(Divide and assign)\n",
    "    - //=(Floor Divide and assign)\n",
    "    - **=(Exponent and assign)\n",
    "3) Comparision Operator:(Used to compare values)\n",
    "    - ==(Equal to)\n",
    "    - !=(Not Equal to)\n",
    "    - \">\"(Greater than)\n",
    "    - <(Less than)\n",
    "    - \">=\"(Greater than or equal to)\n",
    "    - <=(Less than or equal to)\n",
    "4) Logical Operators:(Used to combine conditional statements)\n",
    "    - and(Logical AND)\n",
    "    - or(Logical OR)\n",
    "    - not(Logical NOT)\n",
    "5) Identity Operators:(Used to compare the memory locations of objects.)\n",
    "    - is(Returns True if both variables are the same objects)\n",
    "    - is not(Return True if both vatiables are not the same objects)\n",
    "6) Membership Operators:(Used to check if a values is part of sequence)\n",
    "    - in(Returns True if value is found in sequence)\n",
    "    - not in(Returns True if value is not found in sequence)\n",
    "7) Bitwise Operators:(Used to manipulate individual bits of data)\n",
    "    - &(Bitwise AND)\n",
    "    - |(Bitwise OR)\n",
    "    - ^(Bitwise XOR)\n",
    "    - ~(Bitwise NOT)\n",
    "    - <<(Left shift)\n",
    "    - \">>\"(Right shift)\n",
    "-----"
   ]
  },
  {
   "cell_type": "markdown",
   "id": "3563a1ed",
   "metadata": {},
   "source": [
    "**Data Types**\n",
    "1) Numerical - int, float, complex\n",
    "2) String(str)\n",
    "3) Boolean(bool)\n",
    "4) None\n",
    "5) Data Structures - list, tuple, set, dictionaries, sets\n",
    "\n",
    "---"
   ]
  },
  {
   "cell_type": "markdown",
   "id": "ef36e658",
   "metadata": {},
   "source": [
    "**Input & Output:**\n",
    "1) input() this function is used to take input from user\n",
    "2) print() this function is used to give output to user\n",
    "\n",
    "---"
   ]
  },
  {
   "cell_type": "markdown",
   "id": "1990ca12",
   "metadata": {},
   "source": [
    "**Control Statements:**\n",
    "\n",
    "They are statements which control flow.\n",
    "\n",
    "1) if-else: If we want to perform operation's based of conditions.\n",
    "2) Ternary operators: It is way to write if else statement in single line.\n",
    "\n",
    "age = int(input())\n",
    "\n",
    "result = \"Eligible\" if age >= 18 else \"Not Elohible\"\n"
   ]
  },
  {
   "cell_type": "code",
   "execution_count": 9,
   "id": "112c4bd0",
   "metadata": {},
   "outputs": [
    {
     "name": "stdout",
     "output_type": "stream",
     "text": [
      "Eligible for DL.\n"
     ]
    }
   ],
   "source": [
    "age = int(input())\n",
    "if age >= 18:\n",
    "    test = input()\n",
    "    if test == \"PASS\":\n",
    "        print(\"Eligible for DL.\")\n",
    "else:\n",
    "    print(\"Not eligible for DL\")"
   ]
  },
  {
   "cell_type": "code",
   "execution_count": 10,
   "id": "38812ed3",
   "metadata": {},
   "outputs": [
    {
     "name": "stdout",
     "output_type": "stream",
     "text": [
      "Eligible\n"
     ]
    }
   ],
   "source": [
    "age = int(input())\n",
    "\n",
    "result = \"Eligible\" if age>=18 else \"Not Eligible\"\n",
    "print(result)"
   ]
  },
  {
   "cell_type": "markdown",
   "id": "26b22cff",
   "metadata": {},
   "source": [
    "---"
   ]
  },
  {
   "cell_type": "markdown",
   "id": "f81a0803",
   "metadata": {},
   "source": [
    "**Loops:**\n",
    "\n",
    "They are used to repeate something.\n",
    "\n",
    "1) for loop: we have an iterable to itrate all element we use for loop. Or we know both end and start condition\n",
    "2) while loop: you give a condition and loop will run till condition is not true."
   ]
  },
  {
   "cell_type": "code",
   "execution_count": 4,
   "id": "27e39eea",
   "metadata": {},
   "outputs": [
    {
     "name": "stdout",
     "output_type": "stream",
     "text": [
      "0 1 2 3 4 "
     ]
    }
   ],
   "source": [
    "i = 0\n",
    "while i< 5:\n",
    "    print(i, end=\" \")\n",
    "    i += 1"
   ]
  },
  {
   "cell_type": "code",
   "execution_count": 6,
   "id": "5a2d15ac",
   "metadata": {},
   "outputs": [
    {
     "name": "stdout",
     "output_type": "stream",
     "text": [
      "3 4 5 6 822 4545 "
     ]
    }
   ],
   "source": [
    "list1 = [3,4,5,6,822,4545]\n",
    "\n",
    "for i in list1:\n",
    "    print(i,end=\" \")"
   ]
  },
  {
   "cell_type": "code",
   "execution_count": 18,
   "id": "604fefc9",
   "metadata": {},
   "outputs": [
    {
     "name": "stdout",
     "output_type": "stream",
     "text": [
      "1 2 3 4 5 6 7 8 9 10 \n",
      "1 3 5 7 9 \n",
      "20 19 18 17 16 15 14 13 12 11 10 9 8 7 6 5 4 3 2 1 "
     ]
    }
   ],
   "source": [
    "# print 1 to 10 (start condition and end condition)\n",
    "for i in range(1,11):\n",
    "    print(i, end=\" \")\n",
    "print()\n",
    "for i in range(1,11,2):\n",
    "    print(i,end=\" \")\n",
    "print()\n",
    "for i in range(20,0,-1):\n",
    "    print(i,end=\" \")"
   ]
  },
  {
   "cell_type": "markdown",
   "id": "b3d87a12",
   "metadata": {},
   "source": [
    "----"
   ]
  },
  {
   "cell_type": "markdown",
   "id": "82529d64",
   "metadata": {},
   "source": [
    "**Functions**\n",
    "\n",
    "These are set of istructions that we can used to execute perticular operations.\n",
    "\n",
    "Syntax:\n",
    "\n",
    "def function_name(parameters):\n",
    "    "
   ]
  },
  {
   "cell_type": "code",
   "execution_count": 19,
   "id": "e66b794f",
   "metadata": {},
   "outputs": [
    {
     "name": "stdout",
     "output_type": "stream",
     "text": [
      "Prajwal Kamble\n"
     ]
    }
   ],
   "source": [
    "def printName(name):\n",
    "    print(name)\n",
    "\n",
    "printName(\"Prajwal Kamble\")"
   ]
  },
  {
   "cell_type": "code",
   "execution_count": 21,
   "id": "09b13621",
   "metadata": {},
   "outputs": [
    {
     "name": "stdout",
     "output_type": "stream",
     "text": [
      "2\n"
     ]
    }
   ],
   "source": [
    "def addTwoNumbers(a,b):\n",
    "    sum = a + b\n",
    "    return sum\n",
    "\n",
    "ans = addTwoNumbers(1,1)\n",
    "print(ans)"
   ]
  },
  {
   "cell_type": "markdown",
   "id": "e33f58e9",
   "metadata": {},
   "source": [
    "---"
   ]
  },
  {
   "cell_type": "markdown",
   "id": "3d042b72",
   "metadata": {},
   "source": [
    "**Problem Solving:**"
   ]
  },
  {
   "cell_type": "code",
   "execution_count": 22,
   "id": "6eb38f3e",
   "metadata": {},
   "outputs": [
    {
     "name": "stdout",
     "output_type": "stream",
     "text": [
      "1\n",
      "2\n",
      "Fizz\n",
      "4\n",
      "Buzz\n",
      "Fizz\n",
      "7\n",
      "8\n",
      "Fizz\n",
      "Buzz\n",
      "11\n",
      "Fizz\n",
      "13\n",
      "14\n",
      "Fizz Buzz\n",
      "16\n",
      "17\n",
      "Fizz\n",
      "19\n",
      "Buzz\n"
     ]
    }
   ],
   "source": [
    "# Fizz Buzz\n",
    "# divisible by 3 and 5 => fizz buzz\n",
    "# divisible by 3 => fizz\n",
    "# divisible by 5 => buzz\n",
    "# if all condition not satisfied then  return number as string\n",
    "\n",
    "n = int(input())\n",
    "\n",
    "for i in range(1,n+1):\n",
    "    if i%3 ==0 and i %5==0:\n",
    "        print(\"Fizz Buzz\")\n",
    "    elif i%3 == 0:\n",
    "        print(\"Fizz\")\n",
    "    elif i%5 == 0:\n",
    "        print(\"Buzz\")\n",
    "    else:\n",
    "        print(str(i))\n"
   ]
  },
  {
   "cell_type": "code",
   "execution_count": 27,
   "id": "78d9620d",
   "metadata": {},
   "outputs": [
    {
     "name": "stdout",
     "output_type": "stream",
     "text": [
      "3\n"
     ]
    }
   ],
   "source": [
    "# count odd numbers in an iterval range\n",
    "# low = 3, hight = 7\n",
    "\n",
    "low = int(input())\n",
    "high = int(input())\n",
    "count = []\n",
    "for i in range(low,high+1):\n",
    "    if i%2 !=0:\n",
    "        count.append(i)\n",
    "print(len(count))\n"
   ]
  },
  {
   "cell_type": "code",
   "execution_count": 36,
   "id": "7fc54e41",
   "metadata": {},
   "outputs": [
    {
     "name": "stdout",
     "output_type": "stream",
     "text": [
      "3\n"
     ]
    }
   ],
   "source": [
    "low = 3\n",
    "high = 7\n",
    "count = 0\n",
    "for i in range(low,high+1):\n",
    "    if i%2 !=0:\n",
    "        count+=1\n",
    "print(count)"
   ]
  },
  {
   "cell_type": "code",
   "execution_count": 40,
   "id": "332fe383",
   "metadata": {},
   "outputs": [
    {
     "name": "stdout",
     "output_type": "stream",
     "text": [
      "[4, 0, 1, 1, 3]\n"
     ]
    }
   ],
   "source": [
    "# how many numbers smaller than the current number \n",
    "\n",
    "nums = [8,1,2,2,3]\n",
    "\n",
    "ans = []\n",
    "\n",
    "for i in nums:\n",
    "    count = 0\n",
    "    for j in nums:\n",
    "        if j<i:\n",
    "            count += 1\n",
    "    ans.append(count)\n",
    "print(ans)\n"
   ]
  },
  {
   "cell_type": "code",
   "execution_count": 50,
   "id": "4871f496",
   "metadata": {},
   "outputs": [
    {
     "name": "stdout",
     "output_type": "stream",
     "text": [
      "4\n"
     ]
    }
   ],
   "source": [
    "# count the digits that divide a number\n",
    "# n = 5183\n",
    "\n",
    "n = 1111\n",
    "temp = n\n",
    "ans = 0\n",
    "while temp >0:\n",
    "    r = temp%10\n",
    "    if n % r ==0:\n",
    "        ans+=1\n",
    "    temp//=10\n",
    "\n",
    "print(ans)"
   ]
  },
  {
   "cell_type": "code",
   "execution_count": 65,
   "id": "5dcbb395",
   "metadata": {},
   "outputs": [
    {
     "name": "stdout",
     "output_type": "stream",
     "text": [
      "Palindrome\n"
     ]
    }
   ],
   "source": [
    "# palindrome\n",
    "#121\n",
    "# 5005\n",
    "n = int(input())\n",
    "\n",
    "# create temp for storing n \n",
    "temp = n\n",
    "\n",
    "# create rev to store reverse num\n",
    "rev = 0\n",
    "\n",
    "while temp > 0:\n",
    "    # finding reminder \n",
    "    rem = temp %10\n",
    "    # modifying temp\n",
    "    temp //=10\n",
    "    #updating rev\n",
    "    rev = rev*10 + rem\n",
    "\n",
    "if n == rev:\n",
    "    print(\"Palindrome\")\n",
    "else:\n",
    "    print(\"Not\")"
   ]
  },
  {
   "cell_type": "code",
   "execution_count": 68,
   "id": "a690f4c6",
   "metadata": {},
   "outputs": [
    {
     "name": "stdout",
     "output_type": "stream",
     "text": [
      "-3\n"
     ]
    }
   ],
   "source": [
    "# substract the product and sum of digits of an integer\n",
    "n = int(input())\n",
    "temp = n\n",
    "sum_ = 0\n",
    "mult = 1\n",
    "\n",
    "while temp >0:\n",
    "    r = temp %10\n",
    "    sum += r\n",
    "    mult *=r\n",
    "    temp//=10\n",
    "\n",
    "print(mult-sum)"
   ]
  },
  {
   "cell_type": "code",
   "execution_count": null,
   "id": "afed76ba",
   "metadata": {},
   "outputs": [
    {
     "name": "stdout",
     "output_type": "stream",
     "text": [
      "[True, True, True, False, True]\n"
     ]
    }
   ],
   "source": [
    "# kids with the greatest number of candies\n",
    "# input = [2,3,5,1,3]\n",
    "# extraCandies = 3\n",
    "# output: [true, true,true,false,true]\n",
    "# max candies in input = 5\n",
    "\n",
    "input_ = [2,3,5,1,3]\n",
    "\n",
    "new_dis = []\n",
    "\n",
    "out = []\n",
    "\n",
    "maxCandies = max(input_)\n",
    "extraCandies = 3\n",
    "\n",
    "for i in input_:\n",
    "    new_dis.append(i+extraCandies)\n",
    "\n",
    "for i in new_dis:\n",
    "    if i >= maxCandies:\n",
    "        out.append(True)\n",
    "    else:\n",
    "        out.append(False)\n",
    "\n",
    "print(out)"
   ]
  },
  {
   "cell_type": "markdown",
   "id": "905cdd2b",
   "metadata": {},
   "source": [
    "---"
   ]
  }
 ],
 "metadata": {
  "kernelspec": {
   "display_name": "dsa (3.13.2)",
   "language": "python",
   "name": "python3"
  },
  "language_info": {
   "codemirror_mode": {
    "name": "ipython",
    "version": 3
   },
   "file_extension": ".py",
   "mimetype": "text/x-python",
   "name": "python",
   "nbconvert_exporter": "python",
   "pygments_lexer": "ipython3",
   "version": "3.13.2"
  }
 },
 "nbformat": 4,
 "nbformat_minor": 5
}
